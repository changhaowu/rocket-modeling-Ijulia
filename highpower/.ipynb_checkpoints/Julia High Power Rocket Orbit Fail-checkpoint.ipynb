{
 "cells": [
  {
   "cell_type": "code",
   "execution_count": 1,
   "metadata": {},
   "outputs": [],
   "source": [
    "using Pkg"
   ]
  },
  {
   "cell_type": "code",
   "execution_count": 2,
   "metadata": {},
   "outputs": [],
   "source": [
    "using DifferentialEquations"
   ]
  },
  {
   "cell_type": "code",
   "execution_count": 3,
   "metadata": {},
   "outputs": [],
   "source": [
    "using Plots"
   ]
  },
  {
   "cell_type": "code",
   "execution_count": 4,
   "metadata": {},
   "outputs": [],
   "source": [
    "#Pkg.add(\"Images\")"
   ]
  },
  {
   "cell_type": "code",
   "execution_count": 5,
   "metadata": {},
   "outputs": [],
   "source": [
    "#using Images"
   ]
  },
  {
   "cell_type": "markdown",
   "metadata": {},
   "source": [
    "# Example"
   ]
  },
  {
   "cell_type": "raw",
   "metadata": {},
   "source": [
    "function lorenz!(du,u,p,t)\n",
    " du[1] = 10.0*(u[2]-u[1])\n",
    " du[2] = u[1]*(28.0-u[3]) - u[2]\n",
    " du[3] = u[1]*u[2] - (8/3)*u[3]\n",
    "end"
   ]
  },
  {
   "cell_type": "raw",
   "metadata": {},
   "source": [
    "u0 = [1.0;0.0;0.0]\n",
    "tspan = (0.0,100.0)\n",
    "prob = ODEProblem(lorenz!,u0,tspan)\n",
    "sol = solve(prob)"
   ]
  },
  {
   "cell_type": "raw",
   "metadata": {},
   "source": [
    "plot(sol,vars=(1,2,3))"
   ]
  },
  {
   "cell_type": "markdown",
   "metadata": {},
   "source": [
    "# High Power Rocket"
   ]
  },
  {
   "cell_type": "code",
   "execution_count": 6,
   "metadata": {},
   "outputs": [
    {
     "data": {
      "text/plain": [
       "Rflag (generic function with 1 method)"
      ]
     },
     "execution_count": 6,
     "metadata": {},
     "output_type": "execute_result"
    }
   ],
   "source": [
    "function Rflag(R)\n",
    "    if R < R0 - 10\n",
    "        return 0\n",
    "    else\n",
    "        return 1\n",
    "    end\n",
    "end"
   ]
  },
  {
   "cell_type": "code",
   "execution_count": 7,
   "metadata": {},
   "outputs": [
    {
     "data": {
      "text/plain": [
       "amibent (generic function with 1 method)"
      ]
     },
     "execution_count": 7,
     "metadata": {},
     "output_type": "execute_result"
    }
   ],
   "source": [
    "function amibent(h)\n",
    "    if h < 11000\n",
    "        T = 15.04 - 0.00649*h\n",
    "        p = 101.29 * ((T+273.1)/(288.08))^(5.256)\n",
    "    elseif 11000 <= h < 25000\n",
    "        T = -56.46 \n",
    "        p = 22.65 * exp(1.73-0.000157*h)\n",
    "    elseif h >= 25000\n",
    "        T = -131.21 + 0.00299*h \n",
    "        p = 2.488 * ((T+273.1)/216.6)^(-11.388)\n",
    "    end  \n",
    "    rho = p/(0.2869*(T+273.1))\n",
    "    #return p * 1000,rho,T\n",
    "    return rho\n",
    "end"
   ]
  },
  {
   "cell_type": "code",
   "execution_count": 8,
   "metadata": {},
   "outputs": [
    {
     "data": {
      "text/plain": [
       "Thrust (generic function with 1 method)"
      ]
     },
     "execution_count": 8,
     "metadata": {},
     "output_type": "execute_result"
    }
   ],
   "source": [
    "## return immediate thrust \n",
    "function Thrust(t)\n",
    "    if -10 < t < t_inject_1\n",
    "        return T1\n",
    "    elseif t_inject_1 <= t < t_inject_2\n",
    "        return T2\n",
    "    else\n",
    "        return 0.0\n",
    "    end\n",
    "end"
   ]
  },
  {
   "cell_type": "code",
   "execution_count": 9,
   "metadata": {},
   "outputs": [
    {
     "data": {
      "text/plain": [
       "Mass_Flow (generic function with 1 method)"
      ]
     },
     "execution_count": 9,
     "metadata": {},
     "output_type": "execute_result"
    }
   ],
   "source": [
    "## return the exhaust mass flow rate\n",
    "function Mass_Flow(t)\n",
    "    if t < t_inject_1\n",
    "        return mass_flow * 4.0\n",
    "    elseif t_inject_1 <= t < t_inject_2\n",
    "        return mass_flow\n",
    "    else\n",
    "        return 0.0\n",
    "    end\n",
    "end"
   ]
  },
  {
   "cell_type": "raw",
   "metadata": {},
   "source": [
    "## end iteration when the rocket land \n",
    "function Rflag(R)\n",
    "    if R < R0 - 1\n",
    "        return 0.0\n",
    "    else\n",
    "        return 1.0\n",
    "    end\n",
    "end\n",
    "\n",
    "## keep filght trajectory when the speed is low \n",
    "function theta_delay(v)\n",
    "    if v < 400.0\n",
    "        return 0.0\n",
    "    elseif 400 <= v < 1000.0\n",
    "        return 0.5\n",
    "    elseif 1000.0 <= v < 4000.0\n",
    "        return 0.9\n",
    "    end\n",
    "end\n",
    "\n",
    "## return the ambient of the immediate location\n",
    "function amibent(h)\n",
    "    if h < 11000\n",
    "        T = 15.04 - 0.00649*h\n",
    "        p = 101.29 * ((T+273.1)/(288.08))^(5.256)\n",
    "    elseif 11000 <= h < 25000\n",
    "        T = -56.46 \n",
    "        p = 22.65 * exp(1.73-0.000157*h)\n",
    "    elseif h >= 25000\n",
    "        T = -131.21 + 0.00299*h \n",
    "        p = 2.488 * ((T+273.1)/216.6)^(-11.388)\n",
    "    end  \n",
    "    rho = p/(0.2869*(T+273.1))\n",
    "    return p * 1000.0,rho,T\n",
    "end\n",
    "\n",
    "## return the exhaust mass flow rate\n",
    "function Mass_Flow(t)\n",
    "    if t < t_inject_1\n",
    "        return mass_flow .* 3.5\n",
    "    elseif t_inject_1 <= t < t_inject_2\n",
    "        return mass_flow\n",
    "    else\n",
    "        return 0.0\n",
    "    end\n",
    "end\n",
    "\n",
    "## return immediate thrust \n",
    "function Thrust(t)\n",
    "    if t < t_inject_1\n",
    "        return T1\n",
    "    elseif t_inject_1 <= t < t_inject_2\n",
    "        return T2\n",
    "    else\n",
    "        return 0.0\n",
    "    end\n",
    "end"
   ]
  },
  {
   "cell_type": "markdown",
   "metadata": {},
   "source": [
    "## Falcon 1 Merlin 1A rocket engine, full-thrust version"
   ]
  },
  {
   "cell_type": "raw",
   "metadata": {},
   "source": [
    "##launch parameter\n",
    "m_rocket = (1.296 + 0.36) * 1000\n",
    "m_fuel1 = 21.092 * 1000\n",
    "m_fuel2 = 3.385 * 1000\n",
    "\n",
    "t_inject_1 = 169.0\n",
    "t_inject_2 = 418.0\n",
    "\n",
    "\n",
    "##engine parameter\n",
    "mass_flow = 124\n",
    "mass_flow2 = 8\n",
    "##Area_chamber = pi * 0.92^2 \n",
    "##u_e = 3413\n",
    "T1 = 243435.3 \n",
    "T2 = 31134.05\n",
    "##earth parameter\n",
    "R0 = 6400000.0\n",
    "#p_e = 9.7 * 1000000\n",
    "\n",
    "k_aero = 1.678^2 * 0.15 * 1/2\n",
    "\n",
    "## motion parameter\n",
    "v_0 = 100.0\n",
    "\n",
    "theta0 = deg2rad(90 - 3)"
   ]
  },
  {
   "cell_type": "markdown",
   "metadata": {},
   "source": [
    "## Falcon 9 Merlin 1D rocket engine, full-thrust version"
   ]
  },
  {
   "cell_type": "code",
   "execution_count": 10,
   "metadata": {},
   "outputs": [
    {
     "data": {
      "text/plain": [
       "1.4660765716752369"
      ]
     },
     "execution_count": 10,
     "metadata": {},
     "output_type": "execute_result"
    }
   ],
   "source": [
    "##launch parameter\n",
    "m_rocket = 33800.0\n",
    "m_fuel1 = 367500.0\n",
    "m_fuel2 = 140000.0\n",
    "\n",
    "t_inject_1 = 330.0\n",
    "t_inject_2 = 810.0\n",
    "\n",
    "v_limit1 = 100.0\n",
    "v_limit2 = 400.0\n",
    "v_limit3 = 6000.0\n",
    "\n",
    "p_e = 9.7 * 1000000\n",
    "\n",
    "##engine parameter\n",
    "mass_flow = 273.6\n",
    "##Area_chamber = pi * 0.92^2 \n",
    "##u_e = 3413\n",
    "T1 = 6806000\n",
    "T2 = 934000\n",
    "##earth parameter\n",
    "R0 = 6400000.0\n",
    "\n",
    "k_aero = 3.7^2 * 0.25 * 1/2\n",
    "\n",
    "## motion parameter\n",
    "v_0 = 10.0\n",
    "\n",
    "theta0 = deg2rad(90 - 6)"
   ]
  },
  {
   "cell_type": "code",
   "execution_count": 11,
   "metadata": {},
   "outputs": [
    {
     "data": {
      "text/plain": [
       "theta_delay (generic function with 1 method)"
      ]
     },
     "execution_count": 11,
     "metadata": {},
     "output_type": "execute_result"
    }
   ],
   "source": [
    "## keep filght trajectory when the speed is low \n",
    "function theta_delay(v)\n",
    "    if v < v_limit1\n",
    "        return 0.0\n",
    "    elseif v_limit1 <= v < v_limit2\n",
    "        k = 1 + exp((v_limit1 + v_limit2)/2-v)\n",
    "       return (1/k)\n",
    "    elseif v_limit2 <= v < v_limit3\n",
    "       k = 1\n",
    "        return (1/k)\n",
    "    else\n",
    "        return 1\n",
    "    end\n",
    "end"
   ]
  },
  {
   "cell_type": "markdown",
   "metadata": {},
   "source": [
    "$$\n",
    "\\left\\{\\begin{array}{l}\n",
    "R^{\\prime}=\\nu \\sin \\theta \\\\\n",
    "\\varphi^{\\prime}=\\nu \\frac{\\cos \\theta}{R} \\\\\n",
    "a_{1}=\\frac{T}{m} \\\\\n",
    "a_{2}=-\\frac{k_{\\text {areo }} \\rho v^{2}}{m} \\\\\n",
    "a_{3}=-g \\cos \\theta \\\\\n",
    "v^{\\prime}=a_{1}+a_{2}+a_{3} \\\\\n",
    "\\theta^{\\prime}=\\frac{g \\sin \\theta}{\\nu}-\\frac{v \\sin \\theta}{r} \\\\\n",
    "m^{\\prime}=-m_{\\text {mass_rate }}\n",
    "\\end{array}\\right.\n",
    "$$"
   ]
  },
  {
   "cell_type": "code",
   "execution_count": 12,
   "metadata": {},
   "outputs": [
    {
     "data": {
      "text/plain": [
       "line1! (generic function with 1 method)"
      ]
     },
     "execution_count": 12,
     "metadata": {},
     "output_type": "execute_result"
    }
   ],
   "source": [
    "function line1!(du,u,p,t)\n",
    "    du[1] = Rflag(u[1]) * u[3] * sin(u[4])\n",
    "    du[2] = Rflag(u[1]) * u[3] * cos(u[4])/u[1]\n",
    "    a1 =  1*Thrust(t)./(u[5])\n",
    "    #a2 = - k_aero .*(amibent(u[1] - R0)[2] .* u[3]^2)./(u[5])\n",
    "    a2 = - k_aero .*(amibent(u[1] - R0) .* u[3]^2)./(u[5])\n",
    "    a3 = - 9.8 * (R0/u[1])^2 *sin(u[4])\n",
    "    du[3] =  a1 + a2 + a3\n",
    "    du[4] = theta_delay(u[3]) *((u[3] * cos(u[4]))/u[1] - (9.8 * (R0/u[1])^2) * cos(u[4])/u[3])\n",
    "    du[5] = - Mass_Flow(t)\n",
    "end"
   ]
  },
  {
   "cell_type": "code",
   "execution_count": 13,
   "metadata": {},
   "outputs": [
    {
     "data": {
      "text/plain": [
       "retcode: Success\n",
       "Interpolation: specialized 4th order \"free\" interpolation\n",
       "t: 13-element Array{Float64,1}:\n",
       "   0.0\n",
       "   0.0001\n",
       "   0.0011\n",
       "   0.0111\n",
       "   0.11109999999999999\n",
       "   1.1111\n",
       "  11.111099999999999\n",
       "  64.51117410834583\n",
       " 120.90113825232457\n",
       " 177.75579900521905\n",
       " 283.2223888541096\n",
       " 318.16240407153197\n",
       " 330.0\n",
       "u: 13-element Array{Array{Float64,1},1}:\n",
       " [6.4e6, 0.0, 10.0, 1.4660765716752369, 541300.0]\n",
       " [6.400000000994536e6, 1.6332803223393252e-11, 10.000282673323365, 1.4660765716752369, 541299.89056]\n",
       " [6.400000010941442e6, 1.7968622770085225e-10, 10.003109420434408, 1.4660765716752369, 541298.79616]\n",
       " [6.400000110565123e6, 1.8157597806464917e-9, 10.031378279293925, 1.4660765716752369, 541287.85216]\n",
       " [6.4000011222694665e6, 1.8430509949589397e-8, 10.314205652369099, 1.4660765716752369, 541178.4121600001]\n",
       " [6.400012791175357e6, 2.10063337582513e-7, 13.156367346952944, 1.4660765716752369, 540084.01216]\n",
       " [6.400289801229567e6, 4.759163595689393e-6, 42.97586861749559, 1.4660765716752369, 529140.01216]\n",
       " [6.407652301149879e6, 0.00012559511384691293, 247.56264260067704, 1.4650720140465587, 470698.97105582635]\n",
       " [6.429555820975424e6, 0.0009491326722480966, 581.1138361770119, 1.201916154924349, 408985.794296656]\n",
       " [6.4697632599373665e6, 0.0048324327044988805, 1137.973390169763, 0.8690775755233856, 346764.0535686883]\n",
       " [6.589884240108006e6, 0.0309434986589015, 3059.9400508874933, 0.4738742886980181, 231341.4176380624]\n",
       " [6.642179956810032e6, 0.04785070091271801, 4047.3586760799017, 0.4082225153758227, 193103.0649841154]\n",
       " [6.661708538708656e6, 0.05480085999460552, 4386.906956530864, 0.3918247475287485, 181420.37245379703]"
      ]
     },
     "execution_count": 13,
     "metadata": {},
     "output_type": "execute_result"
    }
   ],
   "source": [
    "m = m_fuel1 + m_fuel2 + m_rocket\n",
    "u0 = [R0;0.0;v_0;theta0;m]\n",
    "tspan = (0.0,t_inject_1)\n",
    "prob = ODEProblem(line1!,u0,tspan)\n",
    "sol1 = solve(prob,DP5(),dt=0.0001)"
   ]
  },
  {
   "cell_type": "code",
   "execution_count": 33,
   "metadata": {},
   "outputs": [
    {
     "data": {
      "text/plain": [
       "retcode: Success\n",
       "Interpolation: specialized 3rd order \"free\" interpolation\n",
       "t: 25-element Array{Float64,1}:\n",
       " 330.0\n",
       " 330.0001\n",
       " 330.00109999999995\n",
       " 330.01109999999994\n",
       " 330.11109999999996\n",
       " 331.11109999999996\n",
       " 335.8300355974982\n",
       " 343.40776182986605\n",
       " 354.1515989562124\n",
       " 368.6727915119945\n",
       " 387.06796322633915\n",
       " 409.43583700660236\n",
       " 435.5353251907468\n",
       " 465.0216728188597\n",
       " 497.3574113637244\n",
       " 531.9154489446405\n",
       " 567.9677028822204\n",
       " 604.726246963093\n",
       " 641.3830671467332\n",
       " 677.1931738289111\n",
       " 711.5662629020868\n",
       " 744.1426857031306\n",
       " 774.7962388920032\n",
       " 803.5974039181306\n",
       " 810.0\n",
       "u: 25-element Array{Array{Float64,1},1}:\n",
       " [6.661708538708656e6, 0.05480085999460552, 4386.906956530864, 0.3918247475287485, 173800.0]\n",
       " [6.661708706233866e6, 0.05480092085646927, 4386.9071485189415, 0.3918246178319163, 173799.97264]\n",
       " [6.661710381483467e6, 0.054801529475348505, 4386.909068411295, 0.3918233208642597, 173799.69904]\n",
       " [6.661727133730595e6, 0.05480761568831144, 4386.928268491996, 0.39181035125428176, 173796.96304]\n",
       " [6.661894631313828e6, 0.05486848023542553, 4387.1203850163665, 0.3916806618158173, 173769.60304000002]\n",
       " [6.663567119463949e6, 0.05547736787637004, 4389.05312310524, 0.39038443608593854, 173496.00304]\n",
       " [6.671398594357134e6, 0.05835666515685745, 4398.457662957111, 0.38428435875277517, 172204.9022605245]\n",
       " [6.683765375564313e6, 0.06300140808143707, 4414.54162481182, 0.37454907664563075, 170131.63636334866]\n",
       " [6.700861643300892e6, 0.06963302817260916, 4439.425018230422, 0.3608827920690973, 167192.12252558031]\n",
       " [6.7231641018745685e6, 0.07868659989089154, 4476.946447573325, 0.3426901657052102, 163219.12424231833]\n",
       " [6.750112703009815e6, 0.09031409935252731, 4530.933370339559, 0.32015469239688815, 158186.20526127363]\n",
       " [6.7809645406140275e6, 0.1047099391270181, 4606.385153657187, 0.29361405970284343, 152066.35499499363]\n",
       " [6.814384113511418e6, 0.12189607169063614, 4708.2102874230295, 0.2639870330232389, 144925.5350278117]\n",
       " [6.848924800365569e6, 0.14186608464727093, 4841.476232149637, 0.23245498540668363, 136858.07031676001]\n",
       " [6.883068199328989e6, 0.16451417676717875, 5010.539187541734, 0.20048909849072494, 128011.01225088503]\n",
       " [6.915502335005959e6, 0.18968375625426354, 5218.945198959477, 0.1696227413034998, 118555.93316874639]\n",
       " [6.945229180171286e6, 0.21713299206753872, 5468.931432851315, 0.14133189449465058, 108692.03649142454]\n",
       " [6.971681963433852e6, 0.24653091669713897, 5761.266843888851, 0.11686875936596557, 98634.89883089779]\n",
       " [6.9947645588506395e6, 0.2774523852193138, 6095.215818041983, 0.0971376516314897, 88605.59282865381]\n",
       " [7.01483089691699e6, 0.3094172675897215, 6469.060666532529, 0.08261158653741672, 78807.94764040994]\n",
       " [7.032585053478905e6, 0.3419625068881961, 6881.182314026899, 0.07333896331435519, 69403.47046998907]\n",
       " [7.048942102560205e6, 0.37473545793258684, 7331.720050372107, 0.06904328819542326, 60490.561191623485]\n",
       " [7.064894110282801e6, 0.40754760240091087, 7824.211708357866, 0.06928655861527823, 52103.74903914793]\n",
       " [7.081445607397828e6, 0.44039995344191674, 8367.523869344042, 0.07362750540850463, 44223.750287999464]\n",
       " [7.085458667171984e6, 0.4480023462716694, 8501.690320736088, 0.07517342310454514, 42471.999999999985]"
      ]
     },
     "execution_count": 33,
     "metadata": {},
     "output_type": "execute_result"
    }
   ],
   "source": [
    "u0 = last(sol1) \n",
    "u0[5] = m_rocket + m_fuel2\n",
    "\n",
    "tspan = (t_inject_1,t_inject_2)\n",
    "prob = ODEProblem(line1!,u0,tspan)\n",
    "sol2 = solve(prob,OwrenZen3(),dt=0.0001)"
   ]
  },
  {
   "cell_type": "code",
   "execution_count": 117,
   "metadata": {},
   "outputs": [
    {
     "data": {
      "text/plain": [
       "retcode: Success\n",
       "Interpolation: 3rd order Hermite\n",
       "t: 16-element Array{Float64,1}:\n",
       "  810.0\n",
       "  850.0\n",
       "  890.0\n",
       "  930.0\n",
       "  970.0\n",
       " 1010.0\n",
       " 1050.0\n",
       " 1090.0\n",
       " 1130.0\n",
       " 1170.0\n",
       " 1210.0\n",
       " 1250.0\n",
       " 1290.0\n",
       " 1330.0\n",
       " 1370.0\n",
       " 1400.0\n",
       "u: 16-element Array{Array{Float64,1},1}:\n",
       " [7.085458667171984e6, 0.4480023462716694, 8501.690320736088, 0.07517342310454514, 33800.0]\n",
       " [7.110998643260846e6, 0.4958619433312456, 8477.670747289561, 0.08552047514411987, 33800.0]\n",
       " [7.139963882899443e6, 0.5433753139397446, 8450.548516170324, 0.09571586149489038, 33800.0]\n",
       " [7.172268564681294e6, 0.5905008638056111, 8420.447957119299, 0.10574117807606548, 33800.0]\n",
       " [7.207817754557331e6, 0.6371997088689582, 8387.50463072496, 0.11557918311083175, 33800.0]\n",
       " [7.246508315841573e6, 0.6834358641755596, 8351.863564616207, 0.12521387968000167, 33800.0]\n",
       " [7.288229863681806e6, 0.7291763852067127, 8313.677451493963, 0.13463057745215107, 33800.0]\n",
       " [7.332865745361747e6, 0.77439146216045, 8273.104850730819, 0.1438159337884098, 33800.0]\n",
       " [7.380294028587045e6, 0.8190544688975804, 8230.308431580297, 0.15275797496535584, 33800.0]\n",
       " [7.430388481190012e6, 0.8631419693058283, 8185.453291264517, 0.16144609872566973, 33800.0]\n",
       " [7.483019527362866e6, 0.906633684670344, 8138.705375707126, 0.16987105974100253, 33800.0]\n",
       " [7.538055167484761e6, 0.9495124262572296, 8090.2300247983985, 0.17802493984924236, 33800.0]\n",
       " [7.595361850732723e6, 0.9917639977199317, 8040.190658144548, 0.18590110510946245, 33800.0]\n",
       " [7.654805291856804e6, 1.0333770721390798, 7988.747611540455, 0.19349415180786086, 33800.0]\n",
       " [7.716251225663326e6, 1.0743430485258187, 7936.057129134486, 0.2007998435564385, 33800.0]\n",
       " [7.763737377523937e6, 1.1045776814943273, 7895.717165972319, 0.2060612420629643, 33800.0]"
      ]
     },
     "execution_count": 117,
     "metadata": {},
     "output_type": "execute_result"
    }
   ],
   "source": [
    "u0 = last(sol2) \n",
    "u0[5] = m_rocket\n",
    "\n",
    "tspan = (t_inject_2,1400)\n",
    "prob = ODEProblem(line1!,u0,tspan)\n",
    "sol4 = solve(prob, Euler() ,dt = 40)"
   ]
  },
  {
   "cell_type": "code",
   "execution_count": 113,
   "metadata": {},
   "outputs": [
    {
     "data": {
      "image/png": "[encoded data removed]"
     },
     "execution_count": 113,
     "metadata": {},
     "output_type": "execute_result"
    }
   ],
   "source": [
    "phi1 = sol1[2,:]\n",
    "r1 = sol1[1,:]\n",
    "\n",
    "phi2 = sol2[2,:]\n",
    "r2 = sol2[1,:]\n",
    "\n",
    "phi3 = sol3[2,:]\n",
    "r3 = sol3[1,:]\n",
    "\n",
    "phi = vcat(phi1, phi2,phi3)\n",
    "r = vcat(r1,r2,r3)\n",
    "\n",
    "#phi = vcat(phi1, phi2)\n",
    "#r = vcat(r1,r2)\n",
    "\n",
    "plot(phi,r,proj = :polar, m = 3)"
   ]
  },
  {
   "cell_type": "code",
   "execution_count": 125,
   "metadata": {},
   "outputs": [
    {
     "data": {
      "image/png": "[encoded data removed]"
     },
     "execution_count": 125,
     "metadata": {},
     "output_type": "execute_result"
    }
   ],
   "source": [
    "phi1 = sol1[2,:]\n",
    "r1 = sol1[1,:]\n",
    "\n",
    "phi2 = sol2[2,:]\n",
    "r2 = sol2[1,:]\n",
    "\n",
    "phi4 = sol4[2,:]\n",
    "r4 = sol4[1,:]\n",
    "\n",
    "launch_phi = vcat(phi1, phi2,phi4)\n",
    "launch_r = vcat(r1,r2,r4)\n",
    "\n",
    "plot(launch_phi,launch_r,proj = :polar, m = 3,ylims=(R0,R0+1500000))"
   ]
  },
  {
   "cell_type": "raw",
   "metadata": {},
   "source": [
    "function line1!(du,u,p,t)\n",
    "    du[1] = Rflag(u[1]) * sqrt(u[3]^2 + u[4]^2) * cos(u[5])  ## R\n",
    "    du[2] = Rflag(u[1]) * sqrt(u[3]^2 + u[4]^2) * sin(u[5])/u[1]  ## phi\n",
    "    #du[3] = Rflag(u[1]) * ((- (u_e * du[5] + (p_e - amibent(u[1] - R0)[1]) * Area_chamber) - k_aero * amibent(u[1] - R0)[2] * (u[3]^2 + u[4]^2))/u[5]) - 9.8 * (R0/(u[1]))^2 * cos(u[5])  ##v_tangent\n",
    "    du[3] = Rflag(u[1]) * (( Thrust(t)  - k_aero * amibent(u[1] - R0)[2] * (u[3]^2 + u[4]^2))/u[6] - 9.8 * (R0/(u[1]))^2 * cos(u[5]))  ##v_tangent\n",
    "    du[4] = Rflag(u[1]) * - 9.8 * (R0/u[1])^2 * sin(u[5]) ##v_vertical\n",
    "    #du[5] = 9.8 * (R0/u[1])^2 * sin(u[5]) / sqrt(u[3]^2 + u[4]^2) * theta_delay(sqrt(u[3]^2 + u[4]^2)) * aerodelay(t)\n",
    "    du[5] =  sqrt(u[3]^2 + u[4]^2) - 9.8 * (R0/u[1])^2 * sin(u[5]) / sqrt(u[3]^2 + u[4]^2) \n",
    "    du[6] = - mass_flow\n",
    "end"
   ]
  },
  {
   "cell_type": "raw",
   "metadata": {},
   "source": [
    "function line2!(du,u,p,t)\n",
    "    du[1] = Rflag(u[1]) * u[3] * sin(u[4])  ## R\n",
    "    du[2] = Rflag(u[1]) * u[3] * cos(u[4])/u[1]  ## phi\n",
    "    du[3] = Rflag(u[1]) * ((Thrust(t) - k_aero * amibent(u[1] - R0)[2] * u[3]^2 )/u[5]) - 9.8 * (R0/(u[1]))^2 * sin(u[4])  ##v\n",
    "    du[4] = theta_delay(u[3]) * (u[3]*cos(u[4])/u[1] - 9.8 * (R0/u[1])^2 * cos(u[4]) / u[3])\n",
    "    du[5] = 0 \n",
    "end"
   ]
  },
  {
   "cell_type": "raw",
   "metadata": {},
   "source": [
    "u0 = last(sol2) \n",
    "u0[5] = m_rocket + m_fuel2\n",
    "\n",
    "tspan = (t_inject_2,10000.0)\n",
    "prob = ODEProblem(line2!,u0,tspan)\n",
    "sol2 = solve(prob, BS3() ,dt = 0.01)"
   ]
  }
 ],
 "metadata": {
  "kernelspec": {
   "display_name": "Julia 1.4.2",
   "language": "julia",
   "name": "julia-1.4"
  },
  "language_info": {
   "file_extension": ".jl",
   "mimetype": "application/julia",
   "name": "julia",
   "version": "1.4.2"
  },
  "latex_envs": {
   "LaTeX_envs_menu_present": true,
   "autoclose": false,
   "autocomplete": true,
   "bibliofile": "biblio.bib",
   "cite_by": "apalike",
   "current_citInitial": 1,
   "eqLabelWithNumbers": true,
   "eqNumInitial": 1,
   "hotkeys": {
    "equation": "Ctrl-E",
    "itemize": "Ctrl-I"
   },
   "labels_anchors": false,
   "latex_user_defs": false,
   "report_style_numbering": false,
   "user_envs_cfg": false
  },
  "varInspector": {
   "cols": {
    "lenName": 16,
    "lenType": 16,
    "lenVar": 40
   },
   "kernels_config": {
    "python": {
     "delete_cmd_postfix": "",
     "delete_cmd_prefix": "del ",
     "library": "var_list.py",
     "varRefreshCmd": "print(var_dic_list())"
    },
    "r": {
     "delete_cmd_postfix": ") ",
     "delete_cmd_prefix": "rm(",
     "library": "var_list.r",
     "varRefreshCmd": "cat(var_dic_list()) "
    }
   },
   "types_to_exclude": [
    "module",
    "function",
    "builtin_function_or_method",
    "instance",
    "_Feature"
   ],
   "window_display": false
  }
 },
 "nbformat": 4,
 "nbformat_minor": 4
}
