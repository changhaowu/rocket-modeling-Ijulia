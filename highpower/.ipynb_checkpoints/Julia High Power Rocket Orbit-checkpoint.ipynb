{
 "cells": [
  {
   "cell_type": "code",
   "execution_count": 1,
   "metadata": {},
   "outputs": [],
   "source": [
    "using Pkg"
   ]
  },
  {
   "cell_type": "code",
   "execution_count": 2,
   "metadata": {},
   "outputs": [],
   "source": [
    "using DifferentialEquations"
   ]
  },
  {
   "cell_type": "code",
   "execution_count": 3,
   "metadata": {},
   "outputs": [],
   "source": [
    "using Plots"
   ]
  },
  {
   "cell_type": "code",
   "execution_count": 4,
   "metadata": {},
   "outputs": [],
   "source": [
    "#Pkg.add(\"Images\")"
   ]
  },
  {
   "cell_type": "code",
   "execution_count": 5,
   "metadata": {},
   "outputs": [],
   "source": [
    "#using Images"
   ]
  },
  {
   "cell_type": "markdown",
   "metadata": {},
   "source": [
    "# Example"
   ]
  },
  {
   "cell_type": "raw",
   "metadata": {},
   "source": [
    "function lorenz!(du,u,p,t)\n",
    " du[1] = 10.0*(u[2]-u[1])\n",
    " du[2] = u[1]*(28.0-u[3]) - u[2]\n",
    " du[3] = u[1]*u[2] - (8/3)*u[3]\n",
    "end"
   ]
  },
  {
   "cell_type": "raw",
   "metadata": {},
   "source": [
    "u0 = [1.0;0.0;0.0]\n",
    "tspan = (0.0,100.0)\n",
    "prob = ODEProblem(lorenz!,u0,tspan)\n",
    "sol = solve(prob)"
   ]
  },
  {
   "cell_type": "raw",
   "metadata": {},
   "source": [
    "plot(sol,vars=(1,2,3))"
   ]
  },
  {
   "cell_type": "markdown",
   "metadata": {},
   "source": [
    "# High Power Rocket"
   ]
  },
  {
   "cell_type": "code",
   "execution_count": 4,
   "metadata": {},
   "outputs": [
    {
     "data": {
      "text/plain": [
       "Rflag (generic function with 1 method)"
      ]
     },
     "execution_count": 4,
     "metadata": {},
     "output_type": "execute_result"
    }
   ],
   "source": [
    "function Rflag(R)\n",
    "    if R < R0 - 10\n",
    "        return 0\n",
    "    else\n",
    "        return 1\n",
    "    end\n",
    "end"
   ]
  },
  {
   "cell_type": "code",
   "execution_count": 5,
   "metadata": {},
   "outputs": [
    {
     "data": {
      "text/plain": [
       "amibent (generic function with 1 method)"
      ]
     },
     "execution_count": 5,
     "metadata": {},
     "output_type": "execute_result"
    }
   ],
   "source": [
    "function amibent(h)\n",
    "    if h < 11000\n",
    "        T = 15.04 - 0.00649*h\n",
    "        p = 101.29 * ((T+273.1)/(288.08))^(5.256)\n",
    "    elseif 11000 <= h < 25000\n",
    "        T = -56.46 \n",
    "        p = 22.65 * exp(1.73-0.000157*h)\n",
    "    elseif h >= 25000\n",
    "        T = -131.21 + 0.00299*h \n",
    "        p = 2.488 * ((T+273.1)/216.6)^(-11.388)\n",
    "    end  \n",
    "    rho = p/(0.2869*(T+273.1))\n",
    "    #return p * 1000,rho,T\n",
    "    return rho\n",
    "end"
   ]
  },
  {
   "cell_type": "code",
   "execution_count": 6,
   "metadata": {},
   "outputs": [
    {
     "data": {
      "text/plain": [
       "Thrust (generic function with 1 method)"
      ]
     },
     "execution_count": 6,
     "metadata": {},
     "output_type": "execute_result"
    }
   ],
   "source": [
    "## return immediate thrust \n",
    "function Thrust(t)\n",
    "    if -10 < t < t_inject_1\n",
    "        return T1\n",
    "    elseif t_inject_1 <= t < t_inject_2\n",
    "        return T2\n",
    "    else\n",
    "        return 0.0\n",
    "    end\n",
    "end"
   ]
  },
  {
   "cell_type": "code",
   "execution_count": 7,
   "metadata": {},
   "outputs": [
    {
     "data": {
      "text/plain": [
       "Mass_Flow (generic function with 1 method)"
      ]
     },
     "execution_count": 7,
     "metadata": {},
     "output_type": "execute_result"
    }
   ],
   "source": [
    "## return the exhaust mass flow rate\n",
    "function Mass_Flow(t)\n",
    "    if t < t_inject_1\n",
    "        return mass_flow * 4.0\n",
    "    elseif t_inject_1 <= t < t_inject_2\n",
    "        return mass_flow\n",
    "    else\n",
    "        return 0.0\n",
    "    end\n",
    "end"
   ]
  },
  {
   "cell_type": "raw",
   "metadata": {},
   "source": [
    "## end iteration when the rocket land \n",
    "function Rflag(R)\n",
    "    if R < R0 - 1\n",
    "        return 0.0\n",
    "    else\n",
    "        return 1.0\n",
    "    end\n",
    "end\n",
    "\n",
    "## keep filght trajectory when the speed is low \n",
    "function theta_delay(v)\n",
    "    if v < 400.0\n",
    "        return 0.0\n",
    "    elseif 400 <= v < 1000.0\n",
    "        return 0.5\n",
    "    elseif 1000.0 <= v < 4000.0\n",
    "        return 0.9\n",
    "    end\n",
    "end\n",
    "\n",
    "## return the ambient of the immediate location\n",
    "function amibent(h)\n",
    "    if h < 11000\n",
    "        T = 15.04 - 0.00649*h\n",
    "        p = 101.29 * ((T+273.1)/(288.08))^(5.256)\n",
    "    elseif 11000 <= h < 25000\n",
    "        T = -56.46 \n",
    "        p = 22.65 * exp(1.73-0.000157*h)\n",
    "    elseif h >= 25000\n",
    "        T = -131.21 + 0.00299*h \n",
    "        p = 2.488 * ((T+273.1)/216.6)^(-11.388)\n",
    "    end  \n",
    "    rho = p/(0.2869*(T+273.1))\n",
    "    return p * 1000.0,rho,T\n",
    "end\n",
    "\n",
    "## return the exhaust mass flow rate\n",
    "function Mass_Flow(t)\n",
    "    if t < t_inject_1\n",
    "        return mass_flow .* 3.5\n",
    "    elseif t_inject_1 <= t < t_inject_2\n",
    "        return mass_flow\n",
    "    else\n",
    "        return 0.0\n",
    "    end\n",
    "end\n",
    "\n",
    "## return immediate thrust \n",
    "function Thrust(t)\n",
    "    if t < t_inject_1\n",
    "        return T1\n",
    "    elseif t_inject_1 <= t < t_inject_2\n",
    "        return T2\n",
    "    else\n",
    "        return 0.0\n",
    "    end\n",
    "end"
   ]
  },
  {
   "cell_type": "markdown",
   "metadata": {},
   "source": [
    "## Falcon 1 Merlin 1A rocket engine, full-thrust version"
   ]
  },
  {
   "cell_type": "raw",
   "metadata": {},
   "source": [
    "##launch parameter\n",
    "m_rocket = (1.296 + 0.36) * 1000\n",
    "m_fuel1 = 21.092 * 1000\n",
    "m_fuel2 = 3.385 * 1000\n",
    "\n",
    "t_inject_1 = 169.0\n",
    "t_inject_2 = 418.0\n",
    "\n",
    "\n",
    "##engine parameter\n",
    "mass_flow = 124\n",
    "mass_flow2 = 8\n",
    "##Area_chamber = pi * 0.92^2 \n",
    "##u_e = 3413\n",
    "T1 = 243435.3 \n",
    "T2 = 31134.05\n",
    "##earth parameter\n",
    "R0 = 6400000.0\n",
    "#p_e = 9.7 * 1000000\n",
    "\n",
    "k_aero = 1.678^2 * 0.15 * 1/2\n",
    "\n",
    "## motion parameter\n",
    "v_0 = 100.0\n",
    "\n",
    "theta0 = deg2rad(90 - 3)"
   ]
  },
  {
   "cell_type": "markdown",
   "metadata": {},
   "source": [
    "## Falcon 9 Merlin 1D rocket engine, full-thrust version"
   ]
  },
  {
   "cell_type": "code",
   "execution_count": 8,
   "metadata": {},
   "outputs": [
    {
     "data": {
      "text/plain": [
       "1.4660765716752369"
      ]
     },
     "execution_count": 8,
     "metadata": {},
     "output_type": "execute_result"
    }
   ],
   "source": [
    "##launch parameter\n",
    "m_rocket = 33800.0\n",
    "m_fuel1 = 367500.0\n",
    "m_fuel2 = 140000.0\n",
    "\n",
    "t_inject_1 = 330.0\n",
    "t_inject_2 = 660.0\n",
    "\n",
    "v_limit1 = 60.0\n",
    "v_limit2 = 300.0\n",
    "v_limit3 = 6000.0\n",
    "\n",
    "p_e = 9.7 * 1000000\n",
    "\n",
    "##engine parameter\n",
    "mass_flow = 273.6\n",
    "##Area_chamber = pi * 0.92^2 \n",
    "##u_e = 3413\n",
    "T1 = 6806000\n",
    "T2 = 934000\n",
    "##earth parameter\n",
    "R0 = 6400000.0\n",
    "\n",
    "k_aero = 3.7^2 * 0.25 * 1/2\n",
    "\n",
    "## motion parameter\n",
    "v_0 = 10.0\n",
    "\n",
    "theta0 = deg2rad(90 - 6)"
   ]
  },
  {
   "cell_type": "code",
   "execution_count": 9,
   "metadata": {},
   "outputs": [
    {
     "data": {
      "text/plain": [
       "theta_delay (generic function with 1 method)"
      ]
     },
     "execution_count": 9,
     "metadata": {},
     "output_type": "execute_result"
    }
   ],
   "source": [
    "## keep filght trajectory when the speed is low \n",
    "function theta_delay(v)\n",
    "    if v < v_limit1\n",
    "        return 0.0\n",
    "    elseif v_limit1 <= v < v_limit2\n",
    "        k = 1 + exp((v_limit1 + v_limit2)/2-v)\n",
    "       return (1/k)\n",
    "    elseif v_limit2 <= v < v_limit3\n",
    "       k = 1\n",
    "        return (1/k)\n",
    "    else\n",
    "        return 1\n",
    "    end\n",
    "end"
   ]
  },
  {
   "cell_type": "markdown",
   "metadata": {},
   "source": [
    "$$\n",
    "\\left\\{\\begin{array}{l}\n",
    "R^{\\prime}=\\nu \\sin \\theta \\\\\n",
    "\\varphi^{\\prime}=\\nu \\frac{\\cos \\theta}{R} \\\\\n",
    "a_{1}=\\frac{T}{m} \\\\\n",
    "a_{2}=-\\frac{k_{\\text {areo }} \\rho v^{2}}{m} \\\\\n",
    "a_{3}=-g \\cos \\theta \\\\\n",
    "v^{\\prime}=a_{1}+a_{2}+a_{3} \\\\\n",
    "\\theta^{\\prime}=\\frac{g \\sin \\theta}{\\nu}-\\frac{v \\sin \\theta}{r} \\\\\n",
    "m^{\\prime}=-m_{\\text {mass_rate }}\n",
    "\\end{array}\\right.\n",
    "$$"
   ]
  },
  {
   "cell_type": "code",
   "execution_count": 10,
   "metadata": {},
   "outputs": [
    {
     "data": {
      "text/plain": [
       "line1! (generic function with 1 method)"
      ]
     },
     "execution_count": 10,
     "metadata": {},
     "output_type": "execute_result"
    }
   ],
   "source": [
    "function line1!(du,u,p,t)\n",
    "    du[1] = Rflag(u[1]) * u[3] * sin(u[4])\n",
    "    du[2] = Rflag(u[1]) * u[3] * cos(u[4])/u[1]\n",
    "    a1 =  1*Thrust(t)./(u[5])\n",
    "    #a2 = - k_aero .*(amibent(u[1] - R0)[2] .* u[3]^2)./(u[5])\n",
    "    a2 = - k_aero .*(amibent(u[1] - R0) .* u[3]^2)./(u[5])\n",
    "    a3 = - 9.8 * (R0/u[1])^2 *sin(u[4])\n",
    "    du[3] =  a1 + a2 + a3\n",
    "    du[4] = theta_delay(u[3]) *((u[3] * cos(u[4]))/u[1] - (9.8 * (R0/u[1])^2) * cos(u[4])/u[3])\n",
    "    du[5] = - Mass_Flow(t)\n",
    "end"
   ]
  },
  {
   "cell_type": "code",
   "execution_count": 11,
   "metadata": {},
   "outputs": [
    {
     "data": {
      "text/plain": [
       "retcode: Success\n",
       "Interpolation: specialized 4th order \"free\" interpolation\n",
       "t: 13-element Array{Float64,1}:\n",
       "   0.0\n",
       "   0.0001\n",
       "   0.0011\n",
       "   0.0111\n",
       "   0.11109999999999999\n",
       "   1.1111\n",
       "  11.111099999999999\n",
       "  45.13599851095184\n",
       " 112.34142410720563\n",
       " 161.06927151297808\n",
       " 232.55869509838425\n",
       " 324.87893696691486\n",
       " 330.0\n",
       "u: 13-element Array{Array{Float64,1},1}:\n",
       " [6.4e6, 0.0, 10.0, 1.4660765716752369, 541300.0]\n",
       " [6.400000000994536e6, 1.6332803223393252e-11, 10.000282673323365, 1.4660765716752369, 541299.89056]\n",
       " [6.400000010941442e6, 1.7968622770085225e-10, 10.003109420434408, 1.4660765716752369, 541298.79616]\n",
       " [6.400000110565123e6, 1.8157597806464917e-9, 10.031378279293925, 1.4660765716752369, 541287.85216]\n",
       " [6.4000011222694665e6, 1.8430509949589397e-8, 10.314205652369099, 1.4660765716752369, 541178.4121600001]\n",
       " [6.400012791175357e6, 2.10063337582513e-7, 13.156367346952944, 1.4660765716752369, 540084.01216]\n",
       " [6.400289801229567e6, 4.759163595689393e-6, 42.97586861749559, 1.4660765716752369, 529140.01216]\n",
       " [6.40370506398398e6, 6.0828943532622585e-5, 164.039087490647, 1.4660765686976676, 491903.1632296143]\n",
       " [6.424316614473917e6, 0.001308861839868759, 548.1461224369017, 0.9362209929364854, 418353.5454570742]\n",
       " [6.448307617166949e6, 0.005996194322076101, 1094.1044573121762, 0.4831649860453102, 365025.7892561968]\n",
       " [6.477237331042118e6, 0.02418491743343253, 2414.6578962867447, 0.09679484991520305, 286787.76408432826]\n",
       " [6.465715143729106e6, 0.0762899392440589, 5134.812445763807, -0.10329389744461466, 185752.49138340834]\n",
       " [6.462881230891086e6, 0.08041154823224184, 5308.435604219244, -0.10852281089525834, 180698.4411180133]"
      ]
     },
     "execution_count": 11,
     "metadata": {},
     "output_type": "execute_result"
    }
   ],
   "source": [
    "m = m_fuel1 + m_fuel2 + m_rocket\n",
    "u0 = [R0;0.0;v_0;theta0;m]\n",
    "tspan = (0.0,t_inject_1)\n",
    "prob = ODEProblem(line1!,u0,tspan)\n",
    "sol1 = solve(prob,DP5(),dt=0.0001)"
   ]
  },
  {
   "cell_type": "code",
   "execution_count": 12,
   "metadata": {},
   "outputs": [
    {
     "data": {
      "text/plain": [
       "retcode: Success\n",
       "Interpolation: specialized 3rd order \"free\" interpolation\n",
       "t: 49-element Array{Float64,1}:\n",
       " 330.0\n",
       " 330.0001\n",
       " 330.00109999999995\n",
       " 330.01109999999994\n",
       " 330.11109999999996\n",
       " 331.11109999999996\n",
       " 335.94189011977556\n",
       " 343.7130032081067\n",
       " 354.1871212071949\n",
       " 365.8652026310079\n",
       " 376.9540530446461\n",
       " 386.3974584273775\n",
       " 394.1557177718499\n",
       "   ⋮\n",
       " 504.23104029824117\n",
       " 512.9640076807747\n",
       " 522.448111325706\n",
       " 532.8242817365347\n",
       " 544.3000091069466\n",
       " 557.1915494014326\n",
       " 571.9716935891206\n",
       " 589.0631267388687\n",
       " 607.6073979337169\n",
       " 626.8683476546239\n",
       " 647.2103327975507\n",
       " 660.0\n",
       "u: 49-element Array{Array{Float64,1},1}:\n",
       " [6.462881230891086e6, 0.08041154823224184, 5308.435604219244, -0.10852281089525834, 173800.0]\n",
       " [6.4628811733954325e6, 0.08041162988633911, 5308.436239653578, -0.10852290921304952, 173799.97264]\n",
       " [6.462880598435668e6, 0.08041244642784127, 5308.442594004555, -0.10852389238931723, 173799.69904]\n",
       " [6.46287484851481e6, 0.08042061189580627, 5308.506138278206, -0.10853372398757306, 173796.96304]\n",
       " [6.462817316985074e6, 0.08050227187026504, 5309.141657333198, -0.10863202352800348, 173769.60304000002]\n",
       " [6.462238770064252e6, 0.08131940156493432, 5315.504407990362, -0.10961337472276066, 173496.00304]\n",
       " [6.459361249677234e6, 0.08528041609514672, 5346.423738638672, -0.11431198226316511, 172174.2988632294]\n",
       " [6.454445443308746e6, 0.09170018940870626, 5396.665108321099, -0.12172438111528529, 170048.122322262]\n",
       " [6.44726265486458e6, 0.10044714806357179, 5464.493076041542, -0.131432825760099, 167182.40363771148]\n",
       " [6.438508137693035e6, 0.1103247882170036, 5535.721618226579, -0.1418920202596057, 163987.28056015624]\n",
       " [6.429491868149999e6, 0.11980649585335518, 5578.787889094019, -0.1515367585301466, 160953.37108698481]\n",
       " [6.421348096451137e6, 0.12788602955920858, 5523.832027259397, -0.15975755361528501, 158369.6553742695]\n",
       " [6.414515312686759e6, 0.1343490758210362, 5264.7842027984525, -0.1670661372320468, 156246.99561762187]\n",
       " ⋮\n",
       " [6.399778812553051e6, 0.14706765745509592, 966.822890879104, -0.7780354240490637, 126130.38737440121]\n",
       " [6.399778812553051e6, 0.14706765745509592, 955.6471556831585, -0.8386245110650209, 123741.04749854005]\n",
       " [6.399778812553051e6, 0.14706765745509592, 948.5743327237412, -0.9006730056186164, 121146.19674128684]\n",
       " [6.399778812553051e6, 0.14706765745509592, 944.738927024888, -0.9637540559727283, 118307.27651688413]\n",
       " [6.399778812553051e6, 0.14706765745509592, 943.1823859266166, -1.0275882099068587, 115167.51750833943]\n",
       " [6.399778812553051e6, 0.14706765745509592, 942.8472971721644, -1.0920992079022223, 111640.39208376809]\n",
       " [6.399778812553051e6, 0.14706765745509592, 942.5404396352536, -1.1573434065213435, 107596.54463401662]\n",
       " [6.399778812553051e6, 0.14706765745509592, 940.8928055874363, -1.2223893944823225, 102920.32852424553]\n",
       " [6.399778812553051e6, 0.14706765745509592, 936.8258958389881, -1.2820114250960313, 97846.61592533506]\n",
       " [6.399778812553051e6, 0.14706765745509592, 930.0632846796074, -1.3336934664798656, 92576.8200816949]\n",
       " [6.399778812553051e6, 0.14706765745509592, 920.5372992092601, -1.3787925418800504, 87011.25294659015]\n",
       " [6.399778812553051e6, 0.14706765745509592, 913.5019720146835, -1.402895512805247, 83512.00000000001]"
      ]
     },
     "execution_count": 12,
     "metadata": {},
     "output_type": "execute_result"
    }
   ],
   "source": [
    "u0 = last(sol1) \n",
    "u0[5] = m_rocket + m_fuel2\n",
    "\n",
    "tspan = (t_inject_1,t_inject_2)\n",
    "prob = ODEProblem(line1!,u0,tspan)\n",
    "sol2 = solve(prob,OwrenZen3(),dt=0.0001)"
   ]
  },
  {
   "cell_type": "code",
   "execution_count": 16,
   "metadata": {},
   "outputs": [
    {
     "data": {
      "text/plain": [
       "retcode: Success\n",
       "Interpolation: 3rd order Hermite\n",
       "t: 26-element Array{Float64,1}:\n",
       "  660.0\n",
       "  690.0\n",
       "  720.0\n",
       "  750.0\n",
       "  780.0\n",
       "  810.0\n",
       "  840.0\n",
       "  870.0\n",
       "  900.0\n",
       "  930.0\n",
       "  960.0\n",
       "  990.0\n",
       " 1020.0\n",
       " 1050.0\n",
       " 1080.0\n",
       " 1110.0\n",
       " 1140.0\n",
       " 1170.0\n",
       " 1200.0\n",
       " 1230.0\n",
       " 1260.0\n",
       " 1290.0\n",
       " 1320.0\n",
       " 1350.0\n",
       " 1380.0\n",
       " 1400.0\n",
       "u: 26-element Array{Array{Float64,1},1}:\n",
       " [6.399778812553051e6, 0.14706765745509592, 913.5019720146835, -1.402895512805247, 33800.0]\n",
       " [6.399778812553051e6, 0.14706765745509592, -384.53897380584397, -1.4559670158838975, 33800.0]\n",
       " [6.399778812553051e6, 0.14706765745509592, -373.83429541249944, -1.4559670158838975, 33800.0]\n",
       " [6.399778812553051e6, 0.14706765745509592, -347.68176474559885, -1.4559670158838975, 33800.0]\n",
       " [6.399778812553051e6, 0.14706765745509592, -285.6228899157131, -1.4559670158838975, 33800.0]\n",
       " [6.399778812553051e6, 0.14706765745509592, -148.7766824286518, -1.4559670158838975, 33800.0]\n",
       " [6.399778812553051e6, 0.14706765745509592, 101.18802096527241, -1.4559670158838975, 33800.0]\n",
       " [6.399778812553051e6, 0.14706765745509592, 373.78840948995594, -1.4559670158838975, 33800.0]\n",
       " [6.399778812553051e6, 0.14706765745509592, 400.00621914540113, -1.5458921183597496, 33800.0]\n",
       " [6.399778812553051e6, 0.14706765745509592, 389.46505466632897, -1.5641491071548088, 33800.0]\n",
       " [6.399778812553051e6, 0.14706765745509592, 394.8442363885368, -1.5691551451833, 33800.0]\n",
       " [6.399778812553051e6, 0.14706765745509592, 392.20137589445727, -1.5703742110456436, 33800.0]\n",
       " [6.399778812553051e6, 0.14706765745509592, 393.51697465404624, -1.5706898811063845, 33800.0]\n",
       " [6.399778812553051e6, 0.14706765745509592, 392.8656094533852, -1.5707692167578624, 33800.0]\n",
       " [6.399778812553051e6, 0.14706765745509592, 393.1889434313762, -1.5707894559624929, 33800.0]\n",
       " [6.399778812553051e6, 0.14706765745509592, 393.0286449858805, -1.5707945811957795, 33800.0]\n",
       " [6.399778812553051e6, 0.14706765745509592, 393.1081655165181, -1.5707958838428409, 33800.0]\n",
       " [6.399778812553051e6, 0.14706765745509592, 393.068729358314, -1.5707962143270227, 33800.0]\n",
       " [6.399778812553051e6, 0.14706765745509592, 393.08828971310146, -1.570796298247168, 33800.0]\n",
       " [6.399778812553051e6, 0.14706765745509592, 393.07858850686176, -1.5707963195475594, 33800.0]\n",
       " [6.399778812553051e6, 0.14706765745509592, 393.0834001252385, -1.5707963249551682, 33800.0]\n",
       " [6.399778812553051e6, 0.14706765745509592, 393.08101369652854, -1.5707963263278668, 33800.0]\n",
       " [6.399778812553051e6, 0.14706765745509592, 393.08219730971894, -1.5707963266763394, 33800.0]\n",
       " [6.399778812553051e6, 0.14706765745509592, 393.0816102677873, -1.5707963267648002, 33800.0]\n",
       " [6.399778812553051e6, 0.14706765745509592, 393.0819014262681, -1.5707963267872564, 33800.0]\n",
       " [6.399778812553051e6, 0.14706765745509592, 393.0818051547071, -1.570796326791057, 33800.0]"
      ]
     },
     "execution_count": 16,
     "metadata": {},
     "output_type": "execute_result"
    }
   ],
   "source": [
    "u0 = last(sol2) \n",
    "u0[5] = m_rocket\n",
    "\n",
    "tspan = (t_inject_2,1400)\n",
    "prob = ODEProblem(line1!,u0,tspan)\n",
    "sol4 = solve(prob, Euler() ,dt = 30)"
   ]
  },
  {
   "cell_type": "code",
   "execution_count": 14,
   "metadata": {},
   "outputs": [
    {
     "ename": "UndefVarError",
     "evalue": "UndefVarError: sol3 not defined",
     "output_type": "error",
     "traceback": [
      "UndefVarError: sol3 not defined",
      "",
      "Stacktrace:",
      " [1] top-level scope at In[14]:6"
     ]
    }
   ],
   "source": [
    "phi1 = sol1[2,:]\n",
    "r1 = sol1[1,:]\n",
    "\n",
    "phi2 = sol2[2,:]\n",
    "r2 = sol2[1,:]\n",
    "\n",
    "phi3 = sol3[2,:]\n",
    "r3 = sol3[1,:]\n",
    "\n",
    "phi = vcat(phi1, phi2,phi3)\n",
    "r = vcat(r1,r2,r3)\n",
    "\n",
    "#phi = vcat(phi1, phi2)\n",
    "#r = vcat(r1,r2)\n",
    "\n",
    "plot(phi,r,proj = :polar, m = 3)"
   ]
  },
  {
   "cell_type": "code",
   "execution_count": 15,
   "metadata": {},
   "outputs": [
    {
     "ename": "UndefVarError",
     "evalue": "UndefVarError: sol4 not defined",
     "output_type": "error",
     "traceback": [
      "UndefVarError: sol4 not defined",
      "",
      "Stacktrace:",
      " [1] top-level scope at In[15]:6"
     ]
    }
   ],
   "source": [
    "phi1 = sol1[2,:]\n",
    "r1 = sol1[1,:]\n",
    "\n",
    "phi2 = sol2[2,:]\n",
    "r2 = sol2[1,:]\n",
    "\n",
    "phi4 = sol4[2,:]\n",
    "r4 = sol4[1,:]\n",
    "\n",
    "launch_phi = vcat(phi1, phi2,phi4)\n",
    "launch_r = vcat(r1,r2,r4)\n",
    "\n",
    "plot(launch_phi,launch_r,proj = :polar, m = 3,ylims=(R0,R0+1500000))"
   ]
  },
  {
   "cell_type": "raw",
   "metadata": {},
   "source": [
    "function line1!(du,u,p,t)\n",
    "    du[1] = Rflag(u[1]) * sqrt(u[3]^2 + u[4]^2) * cos(u[5])  ## R\n",
    "    du[2] = Rflag(u[1]) * sqrt(u[3]^2 + u[4]^2) * sin(u[5])/u[1]  ## phi\n",
    "    #du[3] = Rflag(u[1]) * ((- (u_e * du[5] + (p_e - amibent(u[1] - R0)[1]) * Area_chamber) - k_aero * amibent(u[1] - R0)[2] * (u[3]^2 + u[4]^2))/u[5]) - 9.8 * (R0/(u[1]))^2 * cos(u[5])  ##v_tangent\n",
    "    du[3] = Rflag(u[1]) * (( Thrust(t)  - k_aero * amibent(u[1] - R0)[2] * (u[3]^2 + u[4]^2))/u[6] - 9.8 * (R0/(u[1]))^2 * cos(u[5]))  ##v_tangent\n",
    "    du[4] = Rflag(u[1]) * - 9.8 * (R0/u[1])^2 * sin(u[5]) ##v_vertical\n",
    "    #du[5] = 9.8 * (R0/u[1])^2 * sin(u[5]) / sqrt(u[3]^2 + u[4]^2) * theta_delay(sqrt(u[3]^2 + u[4]^2)) * aerodelay(t)\n",
    "    du[5] =  sqrt(u[3]^2 + u[4]^2) - 9.8 * (R0/u[1])^2 * sin(u[5]) / sqrt(u[3]^2 + u[4]^2) \n",
    "    du[6] = - mass_flow\n",
    "end"
   ]
  },
  {
   "cell_type": "raw",
   "metadata": {},
   "source": [
    "function line2!(du,u,p,t)\n",
    "    du[1] = Rflag(u[1]) * u[3] * sin(u[4])  ## R\n",
    "    du[2] = Rflag(u[1]) * u[3] * cos(u[4])/u[1]  ## phi\n",
    "    du[3] = Rflag(u[1]) * ((Thrust(t) - k_aero * amibent(u[1] - R0)[2] * u[3]^2 )/u[5]) - 9.8 * (R0/(u[1]))^2 * sin(u[4])  ##v\n",
    "    du[4] = theta_delay(u[3]) * (u[3]*cos(u[4])/u[1] - 9.8 * (R0/u[1])^2 * cos(u[4]) / u[3])\n",
    "    du[5] = 0 \n",
    "end"
   ]
  },
  {
   "cell_type": "raw",
   "metadata": {},
   "source": [
    "u0 = last(sol2) \n",
    "u0[5] = m_rocket + m_fuel2\n",
    "\n",
    "tspan = (t_inject_2,10000.0)\n",
    "prob = ODEProblem(line2!,u0,tspan)\n",
    "sol2 = solve(prob, BS3() ,dt = 0.01)"
   ]
  }
 ],
 "metadata": {
  "kernelspec": {
   "display_name": "Julia 1.4.2",
   "language": "julia",
   "name": "julia-1.4"
  },
  "language_info": {
   "file_extension": ".jl",
   "mimetype": "application/julia",
   "name": "julia",
   "version": "1.4.2"
  },
  "latex_envs": {
   "LaTeX_envs_menu_present": true,
   "autoclose": false,
   "autocomplete": true,
   "bibliofile": "biblio.bib",
   "cite_by": "apalike",
   "current_citInitial": 1,
   "eqLabelWithNumbers": true,
   "eqNumInitial": 1,
   "hotkeys": {
    "equation": "Ctrl-E",
    "itemize": "Ctrl-I"
   },
   "labels_anchors": false,
   "latex_user_defs": false,
   "report_style_numbering": false,
   "user_envs_cfg": false
  },
  "varInspector": {
   "cols": {
    "lenName": 16,
    "lenType": 16,
    "lenVar": 40
   },
   "kernels_config": {
    "python": {
     "delete_cmd_postfix": "",
     "delete_cmd_prefix": "del ",
     "library": "var_list.py",
     "varRefreshCmd": "print(var_dic_list())"
    },
    "r": {
     "delete_cmd_postfix": ") ",
     "delete_cmd_prefix": "rm(",
     "library": "var_list.r",
     "varRefreshCmd": "cat(var_dic_list()) "
    }
   },
   "types_to_exclude": [
    "module",
    "function",
    "builtin_function_or_method",
    "instance",
    "_Feature"
   ],
   "window_display": false
  }
 },
 "nbformat": 4,
 "nbformat_minor": 4
}
